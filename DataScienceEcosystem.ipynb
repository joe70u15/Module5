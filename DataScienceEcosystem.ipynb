{
  "metadata": {
    "kernelspec": {
      "name": "python",
      "display_name": "Python (Pyodide)",
      "language": "python"
    },
    "language_info": {
      "codemirror_mode": {
        "name": "python",
        "version": 3
      },
      "file_extension": ".py",
      "mimetype": "text/x-python",
      "name": "python",
      "nbconvert_exporter": "python",
      "pygments_lexer": "ipython3",
      "version": "3.8"
    }
  },
  "nbformat_minor": 5,
  "nbformat": 4,
  "cells": [
    {
      "id": "38ed8452-8847-4874-ac1e-87b96576bf72",
      "cell_type": "markdown",
      "source": "# Data Science Tools and Ecosystem",
      "metadata": {}
    },
    {
      "id": "e8c90e2e-40bd-4d08-bdcc-61a9b01322da",
      "cell_type": "markdown",
      "source": "In this notebook, Data Science Tools and Ecosystem are summarized.\n",
      "metadata": {}
    },
    {
      "id": "4906797d-1ba5-40d9-8f82-2e5e7538775d",
      "cell_type": "markdown",
      "source": "**Objectives:**\n\n- List popular languages for Data Science.\n- List common libraries used in Data Science.\n- Describe development environments for Data Science.\n- Introduce basic arithmetic operations in Python.\n- Convert minutes to hours using Python.",
      "metadata": {}
    },
    {
      "id": "d8c0c914-e90b-441b-b752-6ae5f661f52a",
      "cell_type": "markdown",
      "source": "Some of the popular languages that Data Scientists use are:  \n\n1. SQL  \n2. R  \n3. Python \n  \n",
      "metadata": {}
    },
    {
      "id": "a6aa1b62-9a83-4033-96e2-1aecd644d56d",
      "cell_type": "markdown",
      "source": "Some of the commonly used libraries used by Data Scientists include:  \n\n1. NumPy  \n2. TensorFlow  \n3. Pandas",
      "metadata": {}
    },
    {
      "id": "827bb8a8-10fc-4d5d-a62a-abab9143aaef",
      "cell_type": "markdown",
      "source": "| Data Science Tools |\n|--------------------|\n| Jupyter Notebook  |\n| RStudio           |\n| Apache Zeppelin   |\n",
      "metadata": {}
    },
    {
      "id": "67976617-94dd-4336-a30f-53567a4955a5",
      "cell_type": "markdown",
      "source": "### Below are a few examples of evaluating arithmetic expressions in Python.\n",
      "metadata": {}
    },
    {
      "id": "be0df5c1-9772-4376-aee7-a055fc659471",
      "cell_type": "code",
      "source": "print(\"This is a simple arithmetic expression to multiply then add integers\")\nprint((3 * 4) + 5)",
      "metadata": {
        "trusted": true
      },
      "outputs": [
        {
          "name": "stdout",
          "output_type": "stream",
          "text": "This is a simple arithmetic expression to multiply then add integers\n17\n"
        }
      ],
      "execution_count": 6
    },
    {
      "id": "720c591d-e308-4a74-8ffc-419ba2aa0837",
      "cell_type": "code",
      "source": "# This will convert 200 minutes to hours by dividing by 60\n200 / 60",
      "metadata": {
        "trusted": true
      },
      "outputs": [
        {
          "execution_count": 7,
          "output_type": "execute_result",
          "data": {
            "text/plain": "3.3333333333333335"
          },
          "metadata": {}
        }
      ],
      "execution_count": 7
    },
    {
      "id": "2dcc917d-aae1-4b53-9a76-f7db4b6ac619",
      "cell_type": "markdown",
      "source": "## Author\nJoe",
      "metadata": {}
    },
    {
      "id": "d8037d3b-3d02-46c4-a634-30b36523a2d5",
      "cell_type": "code",
      "source": "",
      "metadata": {
        "trusted": true
      },
      "outputs": [],
      "execution_count": null
    }
  ]
}